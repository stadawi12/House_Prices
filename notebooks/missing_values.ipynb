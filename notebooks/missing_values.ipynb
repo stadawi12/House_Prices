{
 "cells": [
  {
   "cell_type": "code",
   "execution_count": 59,
   "id": "5fc6364a",
   "metadata": {},
   "outputs": [],
   "source": [
    "import pandas as pd\n",
    "import seaborn as sns"
   ]
  },
  {
   "cell_type": "code",
   "execution_count": 60,
   "id": "e7bf4f40",
   "metadata": {},
   "outputs": [],
   "source": [
    "# load the train and test datasets, the test dataset does not have labels as this is a competition\n",
    "df_train = pd.read_csv('../data/raw/train.csv')\n",
    "df_test = pd.read_csv('../data/raw/test.csv')\n",
    "\n",
    "# concatenate them into a single table\n",
    "df = pd.concat([df_train, df_test], ignore_index=True)\n",
    "df_clean = df.copy()"
   ]
  },
  {
   "cell_type": "code",
   "execution_count": 61,
   "id": "d2ad429a",
   "metadata": {
    "scrolled": false
   },
   "outputs": [
    {
     "data": {
      "text/html": [
       "<div>\n",
       "<style scoped>\n",
       "    .dataframe tbody tr th:only-of-type {\n",
       "        vertical-align: middle;\n",
       "    }\n",
       "\n",
       "    .dataframe tbody tr th {\n",
       "        vertical-align: top;\n",
       "    }\n",
       "\n",
       "    .dataframe thead th {\n",
       "        text-align: right;\n",
       "    }\n",
       "</style>\n",
       "<table border=\"1\" class=\"dataframe\">\n",
       "  <thead>\n",
       "    <tr style=\"text-align: right;\">\n",
       "      <th></th>\n",
       "      <th>Id</th>\n",
       "      <th>MSSubClass</th>\n",
       "      <th>MSZoning</th>\n",
       "      <th>LotFrontage</th>\n",
       "      <th>LotArea</th>\n",
       "      <th>Street</th>\n",
       "      <th>Alley</th>\n",
       "      <th>LotShape</th>\n",
       "      <th>LandContour</th>\n",
       "      <th>Utilities</th>\n",
       "      <th>...</th>\n",
       "      <th>PoolArea</th>\n",
       "      <th>PoolQC</th>\n",
       "      <th>Fence</th>\n",
       "      <th>MiscFeature</th>\n",
       "      <th>MiscVal</th>\n",
       "      <th>MoSold</th>\n",
       "      <th>YrSold</th>\n",
       "      <th>SaleType</th>\n",
       "      <th>SaleCondition</th>\n",
       "      <th>SalePrice</th>\n",
       "    </tr>\n",
       "  </thead>\n",
       "  <tbody>\n",
       "    <tr>\n",
       "      <th>0</th>\n",
       "      <td>1</td>\n",
       "      <td>60</td>\n",
       "      <td>RL</td>\n",
       "      <td>65.0</td>\n",
       "      <td>8450</td>\n",
       "      <td>Pave</td>\n",
       "      <td>NaN</td>\n",
       "      <td>Reg</td>\n",
       "      <td>Lvl</td>\n",
       "      <td>AllPub</td>\n",
       "      <td>...</td>\n",
       "      <td>0</td>\n",
       "      <td>NaN</td>\n",
       "      <td>NaN</td>\n",
       "      <td>NaN</td>\n",
       "      <td>0</td>\n",
       "      <td>2</td>\n",
       "      <td>2008</td>\n",
       "      <td>WD</td>\n",
       "      <td>Normal</td>\n",
       "      <td>208500.0</td>\n",
       "    </tr>\n",
       "    <tr>\n",
       "      <th>1</th>\n",
       "      <td>2</td>\n",
       "      <td>20</td>\n",
       "      <td>RL</td>\n",
       "      <td>80.0</td>\n",
       "      <td>9600</td>\n",
       "      <td>Pave</td>\n",
       "      <td>NaN</td>\n",
       "      <td>Reg</td>\n",
       "      <td>Lvl</td>\n",
       "      <td>AllPub</td>\n",
       "      <td>...</td>\n",
       "      <td>0</td>\n",
       "      <td>NaN</td>\n",
       "      <td>NaN</td>\n",
       "      <td>NaN</td>\n",
       "      <td>0</td>\n",
       "      <td>5</td>\n",
       "      <td>2007</td>\n",
       "      <td>WD</td>\n",
       "      <td>Normal</td>\n",
       "      <td>181500.0</td>\n",
       "    </tr>\n",
       "    <tr>\n",
       "      <th>2</th>\n",
       "      <td>3</td>\n",
       "      <td>60</td>\n",
       "      <td>RL</td>\n",
       "      <td>68.0</td>\n",
       "      <td>11250</td>\n",
       "      <td>Pave</td>\n",
       "      <td>NaN</td>\n",
       "      <td>IR1</td>\n",
       "      <td>Lvl</td>\n",
       "      <td>AllPub</td>\n",
       "      <td>...</td>\n",
       "      <td>0</td>\n",
       "      <td>NaN</td>\n",
       "      <td>NaN</td>\n",
       "      <td>NaN</td>\n",
       "      <td>0</td>\n",
       "      <td>9</td>\n",
       "      <td>2008</td>\n",
       "      <td>WD</td>\n",
       "      <td>Normal</td>\n",
       "      <td>223500.0</td>\n",
       "    </tr>\n",
       "    <tr>\n",
       "      <th>3</th>\n",
       "      <td>4</td>\n",
       "      <td>70</td>\n",
       "      <td>RL</td>\n",
       "      <td>60.0</td>\n",
       "      <td>9550</td>\n",
       "      <td>Pave</td>\n",
       "      <td>NaN</td>\n",
       "      <td>IR1</td>\n",
       "      <td>Lvl</td>\n",
       "      <td>AllPub</td>\n",
       "      <td>...</td>\n",
       "      <td>0</td>\n",
       "      <td>NaN</td>\n",
       "      <td>NaN</td>\n",
       "      <td>NaN</td>\n",
       "      <td>0</td>\n",
       "      <td>2</td>\n",
       "      <td>2006</td>\n",
       "      <td>WD</td>\n",
       "      <td>Abnorml</td>\n",
       "      <td>140000.0</td>\n",
       "    </tr>\n",
       "    <tr>\n",
       "      <th>4</th>\n",
       "      <td>5</td>\n",
       "      <td>60</td>\n",
       "      <td>RL</td>\n",
       "      <td>84.0</td>\n",
       "      <td>14260</td>\n",
       "      <td>Pave</td>\n",
       "      <td>NaN</td>\n",
       "      <td>IR1</td>\n",
       "      <td>Lvl</td>\n",
       "      <td>AllPub</td>\n",
       "      <td>...</td>\n",
       "      <td>0</td>\n",
       "      <td>NaN</td>\n",
       "      <td>NaN</td>\n",
       "      <td>NaN</td>\n",
       "      <td>0</td>\n",
       "      <td>12</td>\n",
       "      <td>2008</td>\n",
       "      <td>WD</td>\n",
       "      <td>Normal</td>\n",
       "      <td>250000.0</td>\n",
       "    </tr>\n",
       "    <tr>\n",
       "      <th>5</th>\n",
       "      <td>6</td>\n",
       "      <td>50</td>\n",
       "      <td>RL</td>\n",
       "      <td>85.0</td>\n",
       "      <td>14115</td>\n",
       "      <td>Pave</td>\n",
       "      <td>NaN</td>\n",
       "      <td>IR1</td>\n",
       "      <td>Lvl</td>\n",
       "      <td>AllPub</td>\n",
       "      <td>...</td>\n",
       "      <td>0</td>\n",
       "      <td>NaN</td>\n",
       "      <td>MnPrv</td>\n",
       "      <td>Shed</td>\n",
       "      <td>700</td>\n",
       "      <td>10</td>\n",
       "      <td>2009</td>\n",
       "      <td>WD</td>\n",
       "      <td>Normal</td>\n",
       "      <td>143000.0</td>\n",
       "    </tr>\n",
       "    <tr>\n",
       "      <th>6</th>\n",
       "      <td>7</td>\n",
       "      <td>20</td>\n",
       "      <td>RL</td>\n",
       "      <td>75.0</td>\n",
       "      <td>10084</td>\n",
       "      <td>Pave</td>\n",
       "      <td>NaN</td>\n",
       "      <td>Reg</td>\n",
       "      <td>Lvl</td>\n",
       "      <td>AllPub</td>\n",
       "      <td>...</td>\n",
       "      <td>0</td>\n",
       "      <td>NaN</td>\n",
       "      <td>NaN</td>\n",
       "      <td>NaN</td>\n",
       "      <td>0</td>\n",
       "      <td>8</td>\n",
       "      <td>2007</td>\n",
       "      <td>WD</td>\n",
       "      <td>Normal</td>\n",
       "      <td>307000.0</td>\n",
       "    </tr>\n",
       "    <tr>\n",
       "      <th>7</th>\n",
       "      <td>8</td>\n",
       "      <td>60</td>\n",
       "      <td>RL</td>\n",
       "      <td>NaN</td>\n",
       "      <td>10382</td>\n",
       "      <td>Pave</td>\n",
       "      <td>NaN</td>\n",
       "      <td>IR1</td>\n",
       "      <td>Lvl</td>\n",
       "      <td>AllPub</td>\n",
       "      <td>...</td>\n",
       "      <td>0</td>\n",
       "      <td>NaN</td>\n",
       "      <td>NaN</td>\n",
       "      <td>Shed</td>\n",
       "      <td>350</td>\n",
       "      <td>11</td>\n",
       "      <td>2009</td>\n",
       "      <td>WD</td>\n",
       "      <td>Normal</td>\n",
       "      <td>200000.0</td>\n",
       "    </tr>\n",
       "    <tr>\n",
       "      <th>8</th>\n",
       "      <td>9</td>\n",
       "      <td>50</td>\n",
       "      <td>RM</td>\n",
       "      <td>51.0</td>\n",
       "      <td>6120</td>\n",
       "      <td>Pave</td>\n",
       "      <td>NaN</td>\n",
       "      <td>Reg</td>\n",
       "      <td>Lvl</td>\n",
       "      <td>AllPub</td>\n",
       "      <td>...</td>\n",
       "      <td>0</td>\n",
       "      <td>NaN</td>\n",
       "      <td>NaN</td>\n",
       "      <td>NaN</td>\n",
       "      <td>0</td>\n",
       "      <td>4</td>\n",
       "      <td>2008</td>\n",
       "      <td>WD</td>\n",
       "      <td>Abnorml</td>\n",
       "      <td>129900.0</td>\n",
       "    </tr>\n",
       "    <tr>\n",
       "      <th>9</th>\n",
       "      <td>10</td>\n",
       "      <td>190</td>\n",
       "      <td>RL</td>\n",
       "      <td>50.0</td>\n",
       "      <td>7420</td>\n",
       "      <td>Pave</td>\n",
       "      <td>NaN</td>\n",
       "      <td>Reg</td>\n",
       "      <td>Lvl</td>\n",
       "      <td>AllPub</td>\n",
       "      <td>...</td>\n",
       "      <td>0</td>\n",
       "      <td>NaN</td>\n",
       "      <td>NaN</td>\n",
       "      <td>NaN</td>\n",
       "      <td>0</td>\n",
       "      <td>1</td>\n",
       "      <td>2008</td>\n",
       "      <td>WD</td>\n",
       "      <td>Normal</td>\n",
       "      <td>118000.0</td>\n",
       "    </tr>\n",
       "  </tbody>\n",
       "</table>\n",
       "<p>10 rows × 81 columns</p>\n",
       "</div>"
      ],
      "text/plain": [
       "   Id  MSSubClass MSZoning  LotFrontage  LotArea Street Alley LotShape  \\\n",
       "0   1          60       RL         65.0     8450   Pave   NaN      Reg   \n",
       "1   2          20       RL         80.0     9600   Pave   NaN      Reg   \n",
       "2   3          60       RL         68.0    11250   Pave   NaN      IR1   \n",
       "3   4          70       RL         60.0     9550   Pave   NaN      IR1   \n",
       "4   5          60       RL         84.0    14260   Pave   NaN      IR1   \n",
       "5   6          50       RL         85.0    14115   Pave   NaN      IR1   \n",
       "6   7          20       RL         75.0    10084   Pave   NaN      Reg   \n",
       "7   8          60       RL          NaN    10382   Pave   NaN      IR1   \n",
       "8   9          50       RM         51.0     6120   Pave   NaN      Reg   \n",
       "9  10         190       RL         50.0     7420   Pave   NaN      Reg   \n",
       "\n",
       "  LandContour Utilities  ... PoolArea PoolQC  Fence MiscFeature MiscVal  \\\n",
       "0         Lvl    AllPub  ...        0    NaN    NaN         NaN       0   \n",
       "1         Lvl    AllPub  ...        0    NaN    NaN         NaN       0   \n",
       "2         Lvl    AllPub  ...        0    NaN    NaN         NaN       0   \n",
       "3         Lvl    AllPub  ...        0    NaN    NaN         NaN       0   \n",
       "4         Lvl    AllPub  ...        0    NaN    NaN         NaN       0   \n",
       "5         Lvl    AllPub  ...        0    NaN  MnPrv        Shed     700   \n",
       "6         Lvl    AllPub  ...        0    NaN    NaN         NaN       0   \n",
       "7         Lvl    AllPub  ...        0    NaN    NaN        Shed     350   \n",
       "8         Lvl    AllPub  ...        0    NaN    NaN         NaN       0   \n",
       "9         Lvl    AllPub  ...        0    NaN    NaN         NaN       0   \n",
       "\n",
       "  MoSold YrSold  SaleType  SaleCondition  SalePrice  \n",
       "0      2   2008        WD         Normal   208500.0  \n",
       "1      5   2007        WD         Normal   181500.0  \n",
       "2      9   2008        WD         Normal   223500.0  \n",
       "3      2   2006        WD        Abnorml   140000.0  \n",
       "4     12   2008        WD         Normal   250000.0  \n",
       "5     10   2009        WD         Normal   143000.0  \n",
       "6      8   2007        WD         Normal   307000.0  \n",
       "7     11   2009        WD         Normal   200000.0  \n",
       "8      4   2008        WD        Abnorml   129900.0  \n",
       "9      1   2008        WD         Normal   118000.0  \n",
       "\n",
       "[10 rows x 81 columns]"
      ]
     },
     "execution_count": 61,
     "metadata": {},
     "output_type": "execute_result"
    }
   ],
   "source": [
    "df.head(10)"
   ]
  },
  {
   "cell_type": "code",
   "execution_count": 62,
   "id": "4f90cf0e",
   "metadata": {},
   "outputs": [
    {
     "data": {
      "text/plain": [
       "2919"
      ]
     },
     "execution_count": 62,
     "metadata": {},
     "output_type": "execute_result"
    }
   ],
   "source": [
    "df_train.shape[0] + df_test.shape[0]"
   ]
  },
  {
   "cell_type": "code",
   "execution_count": 63,
   "id": "101748f2",
   "metadata": {
    "scrolled": true
   },
   "outputs": [
    {
     "name": "stdout",
     "output_type": "stream",
     "text": [
      "<class 'pandas.core.frame.DataFrame'>\n",
      "RangeIndex: 2919 entries, 0 to 2918\n",
      "Data columns (total 81 columns):\n",
      " #   Column         Non-Null Count  Dtype  \n",
      "---  ------         --------------  -----  \n",
      " 0   Id             2919 non-null   int64  \n",
      " 1   MSSubClass     2919 non-null   int64  \n",
      " 2   MSZoning       2915 non-null   object \n",
      " 3   LotFrontage    2433 non-null   float64\n",
      " 4   LotArea        2919 non-null   int64  \n",
      " 5   Street         2919 non-null   object \n",
      " 6   Alley          198 non-null    object \n",
      " 7   LotShape       2919 non-null   object \n",
      " 8   LandContour    2919 non-null   object \n",
      " 9   Utilities      2917 non-null   object \n",
      " 10  LotConfig      2919 non-null   object \n",
      " 11  LandSlope      2919 non-null   object \n",
      " 12  Neighborhood   2919 non-null   object \n",
      " 13  Condition1     2919 non-null   object \n",
      " 14  Condition2     2919 non-null   object \n",
      " 15  BldgType       2919 non-null   object \n",
      " 16  HouseStyle     2919 non-null   object \n",
      " 17  OverallQual    2919 non-null   int64  \n",
      " 18  OverallCond    2919 non-null   int64  \n",
      " 19  YearBuilt      2919 non-null   int64  \n",
      " 20  YearRemodAdd   2919 non-null   int64  \n",
      " 21  RoofStyle      2919 non-null   object \n",
      " 22  RoofMatl       2919 non-null   object \n",
      " 23  Exterior1st    2918 non-null   object \n",
      " 24  Exterior2nd    2918 non-null   object \n",
      " 25  MasVnrType     2895 non-null   object \n",
      " 26  MasVnrArea     2896 non-null   float64\n",
      " 27  ExterQual      2919 non-null   object \n",
      " 28  ExterCond      2919 non-null   object \n",
      " 29  Foundation     2919 non-null   object \n",
      " 30  BsmtQual       2838 non-null   object \n",
      " 31  BsmtCond       2837 non-null   object \n",
      " 32  BsmtExposure   2837 non-null   object \n",
      " 33  BsmtFinType1   2840 non-null   object \n",
      " 34  BsmtFinSF1     2918 non-null   float64\n",
      " 35  BsmtFinType2   2839 non-null   object \n",
      " 36  BsmtFinSF2     2918 non-null   float64\n",
      " 37  BsmtUnfSF      2918 non-null   float64\n",
      " 38  TotalBsmtSF    2918 non-null   float64\n",
      " 39  Heating        2919 non-null   object \n",
      " 40  HeatingQC      2919 non-null   object \n",
      " 41  CentralAir     2919 non-null   object \n",
      " 42  Electrical     2918 non-null   object \n",
      " 43  1stFlrSF       2919 non-null   int64  \n",
      " 44  2ndFlrSF       2919 non-null   int64  \n",
      " 45  LowQualFinSF   2919 non-null   int64  \n",
      " 46  GrLivArea      2919 non-null   int64  \n",
      " 47  BsmtFullBath   2917 non-null   float64\n",
      " 48  BsmtHalfBath   2917 non-null   float64\n",
      " 49  FullBath       2919 non-null   int64  \n",
      " 50  HalfBath       2919 non-null   int64  \n",
      " 51  BedroomAbvGr   2919 non-null   int64  \n",
      " 52  KitchenAbvGr   2919 non-null   int64  \n",
      " 53  KitchenQual    2918 non-null   object \n",
      " 54  TotRmsAbvGrd   2919 non-null   int64  \n",
      " 55  Functional     2917 non-null   object \n",
      " 56  Fireplaces     2919 non-null   int64  \n",
      " 57  FireplaceQu    1499 non-null   object \n",
      " 58  GarageType     2762 non-null   object \n",
      " 59  GarageYrBlt    2760 non-null   float64\n",
      " 60  GarageFinish   2760 non-null   object \n",
      " 61  GarageCars     2918 non-null   float64\n",
      " 62  GarageArea     2918 non-null   float64\n",
      " 63  GarageQual     2760 non-null   object \n",
      " 64  GarageCond     2760 non-null   object \n",
      " 65  PavedDrive     2919 non-null   object \n",
      " 66  WoodDeckSF     2919 non-null   int64  \n",
      " 67  OpenPorchSF    2919 non-null   int64  \n",
      " 68  EnclosedPorch  2919 non-null   int64  \n",
      " 69  3SsnPorch      2919 non-null   int64  \n",
      " 70  ScreenPorch    2919 non-null   int64  \n",
      " 71  PoolArea       2919 non-null   int64  \n",
      " 72  PoolQC         10 non-null     object \n",
      " 73  Fence          571 non-null    object \n",
      " 74  MiscFeature    105 non-null    object \n",
      " 75  MiscVal        2919 non-null   int64  \n",
      " 76  MoSold         2919 non-null   int64  \n",
      " 77  YrSold         2919 non-null   int64  \n",
      " 78  SaleType       2918 non-null   object \n",
      " 79  SaleCondition  2919 non-null   object \n",
      " 80  SalePrice      1460 non-null   float64\n",
      "dtypes: float64(12), int64(26), object(43)\n",
      "memory usage: 1.8+ MB\n"
     ]
    }
   ],
   "source": [
    "df.info()"
   ]
  },
  {
   "cell_type": "markdown",
   "id": "d95564ea",
   "metadata": {},
   "source": [
    "# Missing values"
   ]
  },
  {
   "cell_type": "markdown",
   "id": "e18a8bbe",
   "metadata": {},
   "source": [
    "## MSZoning - impute missing values with most common"
   ]
  },
  {
   "cell_type": "code",
   "execution_count": 64,
   "id": "731c3e63",
   "metadata": {},
   "outputs": [
    {
     "data": {
      "text/plain": [
       "RL         2265\n",
       "RM          460\n",
       "FV          139\n",
       "RH           26\n",
       "C (all)      25\n",
       "NaN           4\n",
       "Name: MSZoning, dtype: int64"
      ]
     },
     "execution_count": 64,
     "metadata": {},
     "output_type": "execute_result"
    }
   ],
   "source": [
    "df.MSZoning.value_counts(dropna=False)"
   ]
  },
  {
   "cell_type": "code",
   "execution_count": 65,
   "id": "92a48f1e",
   "metadata": {},
   "outputs": [],
   "source": [
    "df_clean['MSZoning'] = df['MSZoning'].fillna(df['MSZoning'].mode()[0])"
   ]
  },
  {
   "cell_type": "markdown",
   "id": "5ad59bcd",
   "metadata": {},
   "source": [
    "## LotFrontage - impute missing values with median"
   ]
  },
  {
   "cell_type": "code",
   "execution_count": 66,
   "id": "97fe02bd",
   "metadata": {},
   "outputs": [
    {
     "data": {
      "text/plain": [
       "<AxesSubplot: ylabel='LotFrontage'>"
      ]
     },
     "execution_count": 66,
     "metadata": {},
     "output_type": "execute_result"
    },
    {
     "data": {
      "image/png": "[encoded data removed]",
      "text/plain": [
       "<Figure size 432x288 with 1 Axes>"
      ]
     },
     "metadata": {
      "needs_background": "light"
     },
     "output_type": "display_data"
    }
   ],
   "source": [
    "sns.boxplot(data=df, y='LotFrontage')"
   ]
  },
  {
   "cell_type": "code",
   "execution_count": 67,
   "id": "a9186ddd",
   "metadata": {},
   "outputs": [],
   "source": [
    "df_clean['LotFrontage'] = df['LotFrontage'].fillna(df['LotFrontage'].median())"
   ]
  },
  {
   "cell_type": "markdown",
   "id": "feaa8097",
   "metadata": {},
   "source": [
    "## Alley - Change nans to 'NoAlley'"
   ]
  },
  {
   "cell_type": "code",
   "execution_count": 68,
   "id": "7229daf0",
   "metadata": {},
   "outputs": [
    {
     "data": {
      "text/plain": [
       "NaN     2721\n",
       "Grvl     120\n",
       "Pave      78\n",
       "Name: Alley, dtype: int64"
      ]
     },
     "execution_count": 68,
     "metadata": {},
     "output_type": "execute_result"
    }
   ],
   "source": [
    "df.Alley.value_counts(dropna=False)"
   ]
  },
  {
   "cell_type": "code",
   "execution_count": 69,
   "id": "7968328d",
   "metadata": {},
   "outputs": [],
   "source": [
    "df_clean['Alley'] = df['Alley'].fillna('NoAlley')"
   ]
  },
  {
   "cell_type": "markdown",
   "id": "d5415f61",
   "metadata": {},
   "source": [
    "## Utilities - drop"
   ]
  },
  {
   "cell_type": "code",
   "execution_count": 70,
   "id": "e8edb10d",
   "metadata": {},
   "outputs": [
    {
     "data": {
      "text/plain": [
       "AllPub    2916\n",
       "NaN          2\n",
       "NoSeWa       1\n",
       "Name: Utilities, dtype: int64"
      ]
     },
     "execution_count": 70,
     "metadata": {},
     "output_type": "execute_result"
    }
   ],
   "source": [
    "df.Utilities.value_counts(dropna=False)"
   ]
  },
  {
   "cell_type": "code",
   "execution_count": 71,
   "id": "a06a738a",
   "metadata": {},
   "outputs": [],
   "source": [
    "df_clean = df_clean.drop('Utilities', axis=1)"
   ]
  },
  {
   "cell_type": "markdown",
   "id": "75c6c592",
   "metadata": {},
   "source": [
    "## Exterior1st - impute with most common"
   ]
  },
  {
   "cell_type": "code",
   "execution_count": 72,
   "id": "9f06f96d",
   "metadata": {},
   "outputs": [
    {
     "data": {
      "text/plain": [
       "VinylSd    1025\n",
       "MetalSd     450\n",
       "HdBoard     442\n",
       "Wd Sdng     411\n",
       "Plywood     221\n",
       "CemntBd     126\n",
       "BrkFace      87\n",
       "WdShing      56\n",
       "AsbShng      44\n",
       "Stucco       43\n",
       "BrkComm       6\n",
       "AsphShn       2\n",
       "Stone         2\n",
       "CBlock        2\n",
       "ImStucc       1\n",
       "NaN           1\n",
       "Name: Exterior1st, dtype: int64"
      ]
     },
     "execution_count": 72,
     "metadata": {},
     "output_type": "execute_result"
    }
   ],
   "source": [
    "df.Exterior1st.value_counts(dropna=False)"
   ]
  },
  {
   "cell_type": "code",
   "execution_count": 73,
   "id": "10b353a6",
   "metadata": {},
   "outputs": [],
   "source": [
    "df_clean[\"Exterior1st\"] = df['Exterior1st'].fillna(df['Exterior1st'].mode()[0])"
   ]
  },
  {
   "cell_type": "markdown",
   "id": "2be45b77",
   "metadata": {},
   "source": [
    "## Exterior2nd - impute with most common"
   ]
  },
  {
   "cell_type": "code",
   "execution_count": 74,
   "id": "fbffe2ed",
   "metadata": {},
   "outputs": [
    {
     "data": {
      "text/plain": [
       "VinylSd    1014\n",
       "MetalSd     447\n",
       "HdBoard     406\n",
       "Wd Sdng     391\n",
       "Plywood     270\n",
       "CmentBd     126\n",
       "Wd Shng      81\n",
       "Stucco       47\n",
       "BrkFace      47\n",
       "AsbShng      38\n",
       "Brk Cmn      22\n",
       "ImStucc      15\n",
       "Stone         6\n",
       "AsphShn       4\n",
       "CBlock        3\n",
       "Other         1\n",
       "NaN           1\n",
       "Name: Exterior2nd, dtype: int64"
      ]
     },
     "execution_count": 74,
     "metadata": {},
     "output_type": "execute_result"
    }
   ],
   "source": [
    "df.Exterior2nd.value_counts(dropna=False)"
   ]
  },
  {
   "cell_type": "code",
   "execution_count": 75,
   "id": "e9136b5c",
   "metadata": {},
   "outputs": [],
   "source": [
    "df_clean[\"Exterior2nd\"] = df['Exterior2nd'].fillna(df['Exterior2nd'].mode()[0])"
   ]
  },
  {
   "cell_type": "markdown",
   "id": "a7357901",
   "metadata": {},
   "source": [
    "## MasVnrType - impute with most common"
   ]
  },
  {
   "cell_type": "code",
   "execution_count": 76,
   "id": "586c4953",
   "metadata": {},
   "outputs": [
    {
     "data": {
      "text/plain": [
       "None       1742\n",
       "BrkFace     879\n",
       "Stone       249\n",
       "BrkCmn       25\n",
       "NaN          24\n",
       "Name: MasVnrType, dtype: int64"
      ]
     },
     "execution_count": 76,
     "metadata": {},
     "output_type": "execute_result"
    }
   ],
   "source": [
    "df.MasVnrType.value_counts(dropna=False)"
   ]
  },
  {
   "cell_type": "code",
   "execution_count": 77,
   "id": "c39d208a",
   "metadata": {},
   "outputs": [],
   "source": [
    "df_clean[\"MasVnrType\"] = df['MasVnrType'].fillna(df['MasVnrType'].mode()[0])"
   ]
  },
  {
   "cell_type": "markdown",
   "id": "9837d891",
   "metadata": {},
   "source": [
    "## MasVnrArea - most values are zero, fill nans with mode"
   ]
  },
  {
   "cell_type": "code",
   "execution_count": 78,
   "id": "85c0e358",
   "metadata": {},
   "outputs": [
    {
     "data": {
      "text/plain": [
       "<seaborn.axisgrid.FacetGrid at 0x7f57224d1d10>"
      ]
     },
     "execution_count": 78,
     "metadata": {},
     "output_type": "execute_result"
    },
    {
     "data": {
      "image/png": "[encoded data removed]",
      "text/plain": [
       "<Figure size 360x360 with 1 Axes>"
      ]
     },
     "metadata": {
      "needs_background": "light"
     },
     "output_type": "display_data"
    }
   ],
   "source": [
    "sns.displot(df.MasVnrArea)"
   ]
  },
  {
   "cell_type": "code",
   "execution_count": 79,
   "id": "74dbd96d",
   "metadata": {},
   "outputs": [],
   "source": [
    "df_clean[\"MasVnrArea\"] = df['MasVnrArea'].fillna(df['MasVnrArea'].mode()[0])"
   ]
  },
  {
   "cell_type": "markdown",
   "id": "1f31f58c",
   "metadata": {},
   "source": [
    "## BsmtQual - fill missing with \"none\""
   ]
  },
  {
   "cell_type": "code",
   "execution_count": 80,
   "id": "338268bc",
   "metadata": {},
   "outputs": [
    {
     "data": {
      "text/plain": [
       "TA     1283\n",
       "Gd     1209\n",
       "Ex      258\n",
       "Fa       88\n",
       "NaN      81\n",
       "Name: BsmtQual, dtype: int64"
      ]
     },
     "execution_count": 80,
     "metadata": {},
     "output_type": "execute_result"
    }
   ],
   "source": [
    "df.BsmtQual.value_counts(dropna=False)"
   ]
  },
  {
   "cell_type": "markdown",
   "id": "4213ef66",
   "metadata": {},
   "source": [
    "## Analysing basement missing values\n",
    "\n",
    "To find houses with no basements I make sure that all the basement features agree that there is no basement because for some of them \n",
    "maybe it's just that, for example, the basement condition was not recorded but that doesn't mean there is no basement.\n",
    "\n",
    "So, below are the IDs of all the houses that do not have a basement based on this analysis"
   ]
  },
  {
   "cell_type": "code",
   "execution_count": 81,
   "id": "66cd35dd",
   "metadata": {
    "scrolled": true
   },
   "outputs": [
    {
     "data": {
      "text/plain": [
       "79"
      ]
     },
     "execution_count": 81,
     "metadata": {},
     "output_type": "execute_result"
    }
   ],
   "source": [
    "bsmt_list = [\"BsmtQual\", \"BsmtCond\", \"BsmtExposure\", \"BsmtFinType1\", \"BsmtFinType2\"]\n",
    "df_bsmt = df[df[bsmt_list].isna().all(axis=1)]\n",
    "nb_indexes = list(df_bsmt.index) # indexes of houses with no basements\n",
    "len(nb_indexes)"
   ]
  },
  {
   "cell_type": "markdown",
   "id": "e4090858",
   "metadata": {},
   "source": [
    "For all houses where there is no basement, we will replace the missing value of a feature such as BsmtQual with the value \n",
    "'NB' (No Basement), then for the remainder of missing values we will fill them with the most common value."
   ]
  },
  {
   "cell_type": "code",
   "execution_count": 82,
   "id": "071ca4bf",
   "metadata": {
    "scrolled": true
   },
   "outputs": [],
   "source": [
    "# Fill true missing basements with NB (No Basement)\n",
    "nb_dict = {idx: 'NB' for idx in nb_indexes}\n",
    "df_clean[\"BsmtQual\"] = df[\"BsmtQual\"].fillna(nb_dict)\n",
    "df_clean[\"BsmtCond\"] = df[\"BsmtCond\"].fillna(nb_dict)\n",
    "df_clean[\"BsmtExposure\"] = df[\"BsmtExposure\"].fillna(nb_dict)\n",
    "df_clean[\"BsmtFinType1\"] = df[\"BsmtFinType1\"].fillna(nb_dict)\n",
    "df_clean[\"BsmtFinType2\"] = df[\"BsmtFinType2\"].fillna(nb_dict)\n",
    "\n",
    "# Fill missing values with most common value\n",
    "df_clean[\"BsmtQual\"].fillna(df_clean[\"BsmtQual\"].mode()[0], inplace=True)\n",
    "df_clean[\"BsmtCond\"].fillna(df_clean[\"BsmtCond\"].mode()[0], inplace=True)\n",
    "df_clean[\"BsmtExposure\"].fillna(df_clean[\"BsmtExposure\"].mode()[0], inplace=True)\n",
    "df_clean[\"BsmtFinType1\"].fillna(df_clean[\"BsmtFinType1\"].mode()[0], inplace=True)\n",
    "df_clean[\"BsmtFinType2\"].fillna(df_clean[\"BsmtFinType2\"].mode()[0], inplace=True)\n",
    "\n",
    "# Fill all the missing values of the basement square feet columns with 0 (only single row) \n",
    "df_clean[\"BsmtFinSF1\"].fillna(0, inplace=True)\n",
    "df_clean[\"BsmtFinSF2\"].fillna(0, inplace=True)\n",
    "df_clean[\"BsmtUnfSF\"].fillna(0, inplace=True)\n",
    "df_clean[\"TotalBsmtSF\"].fillna(0, inplace=True)\n",
    "df_clean[\"BsmtFullBath\"].fillna(0, inplace=True)\n",
    "df_clean[\"BsmtHalfBath\"].fillna(0, inplace=True)"
   ]
  },
  {
   "cell_type": "code",
   "execution_count": 83,
   "id": "e9b205a3",
   "metadata": {
    "scrolled": true
   },
   "outputs": [
    {
     "name": "stdout",
     "output_type": "stream",
     "text": [
      "<class 'pandas.core.frame.DataFrame'>\n",
      "RangeIndex: 2919 entries, 0 to 2918\n",
      "Data columns (total 80 columns):\n",
      " #   Column         Non-Null Count  Dtype  \n",
      "---  ------         --------------  -----  \n",
      " 0   Id             2919 non-null   int64  \n",
      " 1   MSSubClass     2919 non-null   int64  \n",
      " 2   MSZoning       2919 non-null   object \n",
      " 3   LotFrontage    2919 non-null   float64\n",
      " 4   LotArea        2919 non-null   int64  \n",
      " 5   Street         2919 non-null   object \n",
      " 6   Alley          2919 non-null   object \n",
      " 7   LotShape       2919 non-null   object \n",
      " 8   LandContour    2919 non-null   object \n",
      " 9   LotConfig      2919 non-null   object \n",
      " 10  LandSlope      2919 non-null   object \n",
      " 11  Neighborhood   2919 non-null   object \n",
      " 12  Condition1     2919 non-null   object \n",
      " 13  Condition2     2919 non-null   object \n",
      " 14  BldgType       2919 non-null   object \n",
      " 15  HouseStyle     2919 non-null   object \n",
      " 16  OverallQual    2919 non-null   int64  \n",
      " 17  OverallCond    2919 non-null   int64  \n",
      " 18  YearBuilt      2919 non-null   int64  \n",
      " 19  YearRemodAdd   2919 non-null   int64  \n",
      " 20  RoofStyle      2919 non-null   object \n",
      " 21  RoofMatl       2919 non-null   object \n",
      " 22  Exterior1st    2919 non-null   object \n",
      " 23  Exterior2nd    2919 non-null   object \n",
      " 24  MasVnrType     2919 non-null   object \n",
      " 25  MasVnrArea     2919 non-null   float64\n",
      " 26  ExterQual      2919 non-null   object \n",
      " 27  ExterCond      2919 non-null   object \n",
      " 28  Foundation     2919 non-null   object \n",
      " 29  BsmtQual       2919 non-null   object \n",
      " 30  BsmtCond       2919 non-null   object \n",
      " 31  BsmtExposure   2919 non-null   object \n",
      " 32  BsmtFinType1   2919 non-null   object \n",
      " 33  BsmtFinSF1     2919 non-null   float64\n",
      " 34  BsmtFinType2   2919 non-null   object \n",
      " 35  BsmtFinSF2     2919 non-null   float64\n",
      " 36  BsmtUnfSF      2919 non-null   float64\n",
      " 37  TotalBsmtSF    2919 non-null   float64\n",
      " 38  Heating        2919 non-null   object \n",
      " 39  HeatingQC      2919 non-null   object \n",
      " 40  CentralAir     2919 non-null   object \n",
      " 41  Electrical     2918 non-null   object \n",
      " 42  1stFlrSF       2919 non-null   int64  \n",
      " 43  2ndFlrSF       2919 non-null   int64  \n",
      " 44  LowQualFinSF   2919 non-null   int64  \n",
      " 45  GrLivArea      2919 non-null   int64  \n",
      " 46  BsmtFullBath   2919 non-null   float64\n",
      " 47  BsmtHalfBath   2919 non-null   float64\n",
      " 48  FullBath       2919 non-null   int64  \n",
      " 49  HalfBath       2919 non-null   int64  \n",
      " 50  BedroomAbvGr   2919 non-null   int64  \n",
      " 51  KitchenAbvGr   2919 non-null   int64  \n",
      " 52  KitchenQual    2918 non-null   object \n",
      " 53  TotRmsAbvGrd   2919 non-null   int64  \n",
      " 54  Functional     2917 non-null   object \n",
      " 55  Fireplaces     2919 non-null   int64  \n",
      " 56  FireplaceQu    1499 non-null   object \n",
      " 57  GarageType     2762 non-null   object \n",
      " 58  GarageYrBlt    2760 non-null   float64\n",
      " 59  GarageFinish   2760 non-null   object \n",
      " 60  GarageCars     2918 non-null   float64\n",
      " 61  GarageArea     2918 non-null   float64\n",
      " 62  GarageQual     2760 non-null   object \n",
      " 63  GarageCond     2760 non-null   object \n",
      " 64  PavedDrive     2919 non-null   object \n",
      " 65  WoodDeckSF     2919 non-null   int64  \n",
      " 66  OpenPorchSF    2919 non-null   int64  \n",
      " 67  EnclosedPorch  2919 non-null   int64  \n",
      " 68  3SsnPorch      2919 non-null   int64  \n",
      " 69  ScreenPorch    2919 non-null   int64  \n",
      " 70  PoolArea       2919 non-null   int64  \n",
      " 71  PoolQC         10 non-null     object \n",
      " 72  Fence          571 non-null    object \n",
      " 73  MiscFeature    105 non-null    object \n",
      " 74  MiscVal        2919 non-null   int64  \n",
      " 75  MoSold         2919 non-null   int64  \n",
      " 76  YrSold         2919 non-null   int64  \n",
      " 77  SaleType       2918 non-null   object \n",
      " 78  SaleCondition  2919 non-null   object \n",
      " 79  SalePrice      1460 non-null   float64\n",
      "dtypes: float64(12), int64(26), object(42)\n",
      "memory usage: 1.8+ MB\n"
     ]
    }
   ],
   "source": [
    "df_clean.info()"
   ]
  },
  {
   "cell_type": "markdown",
   "id": "09235166",
   "metadata": {},
   "source": [
    "## Electrical - fill missing with most common"
   ]
  },
  {
   "cell_type": "code",
   "execution_count": 84,
   "id": "0ab408b5",
   "metadata": {},
   "outputs": [
    {
     "data": {
      "text/plain": [
       "SBrkr    2671\n",
       "FuseA     188\n",
       "FuseF      50\n",
       "FuseP       8\n",
       "Mix         1\n",
       "NaN         1\n",
       "Name: Electrical, dtype: int64"
      ]
     },
     "execution_count": 84,
     "metadata": {},
     "output_type": "execute_result"
    }
   ],
   "source": [
    "df.Electrical.value_counts(dropna=False)"
   ]
  },
  {
   "cell_type": "code",
   "execution_count": 85,
   "id": "bec33280",
   "metadata": {},
   "outputs": [],
   "source": [
    "df_clean[\"Electrical\"] = df[\"Electrical\"].fillna(df[\"Electrical\"].mode()[0])"
   ]
  },
  {
   "cell_type": "markdown",
   "id": "39d8f64b",
   "metadata": {},
   "source": [
    "## Functional - fill with most common"
   ]
  },
  {
   "cell_type": "code",
   "execution_count": 86,
   "id": "e9d7e251",
   "metadata": {},
   "outputs": [
    {
     "data": {
      "text/plain": [
       "Typ     2717\n",
       "Min2      70\n",
       "Min1      65\n",
       "Mod       35\n",
       "Maj1      19\n",
       "Maj2       9\n",
       "Sev        2\n",
       "NaN        2\n",
       "Name: Functional, dtype: int64"
      ]
     },
     "execution_count": 86,
     "metadata": {},
     "output_type": "execute_result"
    }
   ],
   "source": [
    "df.Functional.value_counts(dropna=False)"
   ]
  },
  {
   "cell_type": "code",
   "execution_count": 87,
   "id": "556c9a45",
   "metadata": {},
   "outputs": [],
   "source": [
    "df_clean[\"Functional\"] = df[\"Functional\"].fillna(df[\"Functional\"].mode()[0])"
   ]
  },
  {
   "cell_type": "markdown",
   "id": "23dd0ba4",
   "metadata": {},
   "source": [
    "## FireplaceQu - fill missing values with 'NF' \n",
    "All of the missing values are due to there not being a fireplace 'NF' = No Fireplace"
   ]
  },
  {
   "cell_type": "code",
   "execution_count": 88,
   "id": "83969e84",
   "metadata": {},
   "outputs": [
    {
     "data": {
      "text/plain": [
       "NaN    1420\n",
       "Gd      744\n",
       "TA      592\n",
       "Fa       74\n",
       "Po       46\n",
       "Ex       43\n",
       "Name: FireplaceQu, dtype: int64"
      ]
     },
     "execution_count": 88,
     "metadata": {},
     "output_type": "execute_result"
    }
   ],
   "source": [
    "df.FireplaceQu.value_counts(dropna=False)"
   ]
  },
  {
   "cell_type": "code",
   "execution_count": 89,
   "id": "8ba412db",
   "metadata": {},
   "outputs": [],
   "source": [
    "df_clean[\"FireplaceQu\"] = df[\"FireplaceQu\"].fillna(\"NF\")"
   ]
  },
  {
   "cell_type": "markdown",
   "id": "530987bc",
   "metadata": {},
   "source": [
    "## KitchenQual - only one missing, fill with most common"
   ]
  },
  {
   "cell_type": "code",
   "execution_count": 90,
   "id": "120b9196",
   "metadata": {},
   "outputs": [
    {
     "data": {
      "text/plain": [
       "TA     1492\n",
       "Gd     1151\n",
       "Ex      205\n",
       "Fa       70\n",
       "NaN       1\n",
       "Name: KitchenQual, dtype: int64"
      ]
     },
     "execution_count": 90,
     "metadata": {},
     "output_type": "execute_result"
    }
   ],
   "source": [
    "df.KitchenQual.value_counts(dropna=False)"
   ]
  },
  {
   "cell_type": "code",
   "execution_count": 91,
   "id": "9ee3e957",
   "metadata": {},
   "outputs": [],
   "source": [
    "df_clean[\"KitchenQual\"] = df[\"KitchenQual\"].fillna(df[\"KitchenQual\"].mode()[0])"
   ]
  },
  {
   "cell_type": "markdown",
   "id": "a0824088",
   "metadata": {},
   "source": [
    "## Garage - we will go through a similar process as we did for the basement features"
   ]
  },
  {
   "cell_type": "code",
   "execution_count": 92,
   "id": "57698eb5",
   "metadata": {},
   "outputs": [
    {
     "data": {
      "text/plain": [
       "Attchd     1723\n",
       "Detchd      779\n",
       "BuiltIn     186\n",
       "NaN         157\n",
       "Basment      36\n",
       "2Types       23\n",
       "CarPort      15\n",
       "Name: GarageType, dtype: int64"
      ]
     },
     "execution_count": 92,
     "metadata": {},
     "output_type": "execute_result"
    }
   ],
   "source": [
    "df.GarageType.value_counts(dropna=False)"
   ]
  },
  {
   "cell_type": "code",
   "execution_count": 93,
   "id": "511e75b7",
   "metadata": {},
   "outputs": [
    {
     "data": {
      "text/plain": [
       "157"
      ]
     },
     "execution_count": 93,
     "metadata": {},
     "output_type": "execute_result"
    }
   ],
   "source": [
    "garage_categorical = [\"GarageType\", \"GarageFinish\", \"GarageQual\", \"GarageCond\"]\n",
    "garage_numerical = [\"GarageYrBlt\", \"GarageCars\", \"GarageArea\"]\n",
    "df_garage = df[df[garage_categorical].isna().all(axis=1)]\n",
    "ng_indexes = list(df_garage.index) # indexes of houses with no basements\n",
    "len(ng_indexes)"
   ]
  },
  {
   "cell_type": "code",
   "execution_count": 94,
   "id": "ff74226a",
   "metadata": {},
   "outputs": [],
   "source": [
    "# Fill missing garages with 'NG' (No Garage)\n",
    "ng_dict = {idx: 'NG' for idx in ng_indexes}\n",
    "df_clean[\"GarageType\"] = df[\"GarageType\"].fillna(ng_dict)\n",
    "df_clean[\"GarageFinish\"] = df[\"GarageFinish\"].fillna(ng_dict)\n",
    "df_clean[\"GarageQual\"] = df[\"GarageQual\"].fillna(ng_dict)\n",
    "df_clean[\"GarageCond\"] = df[\"GarageCond\"].fillna(ng_dict)\n",
    "\n",
    "# For the categorical data, Fill rest remaining missing values with most common\n",
    "df_clean[\"GarageFinish\"].fillna(df_clean[\"GarageFinish\"].mode()[0], inplace=True)\n",
    "df_clean[\"GarageQual\"].fillna(df_clean[\"GarageQual\"].mode()[0], inplace=True)\n",
    "df_clean[\"GarageCond\"].fillna(df_clean[\"GarageCond\"].mode()[0], inplace=True)"
   ]
  },
  {
   "cell_type": "markdown",
   "id": "a6ecad62",
   "metadata": {},
   "source": [
    "# Garage Numerical\n",
    "\n",
    "## GarageYrBlt"
   ]
  },
  {
   "cell_type": "markdown",
   "id": "90cf62ee",
   "metadata": {},
   "source": [
    "We will drop this column as there are a lot of missing values and this column is probably not a very good predictor\n",
    "of Sale Price, or not better than the YrBuilt of a house. It is most likely highly correlated with the YrBuilt feature\n",
    "so there is no need to keep two of them"
   ]
  },
  {
   "cell_type": "code",
   "execution_count": 95,
   "id": "924cc6d2",
   "metadata": {
    "scrolled": true
   },
   "outputs": [
    {
     "data": {
      "text/plain": [
       "<AxesSubplot: xlabel='YearBuilt', ylabel='GarageYrBlt'>"
      ]
     },
     "execution_count": 95,
     "metadata": {},
     "output_type": "execute_result"
    },
    {
     "data": {
      "image/png": "[encoded data removed]",
      "text/plain": [
       "<Figure size 432x288 with 1 Axes>"
      ]
     },
     "metadata": {
      "needs_background": "light"
     },
     "output_type": "display_data"
    }
   ],
   "source": [
    "sns.scatterplot(data=df, x='YearBuilt', y='GarageYrBlt')"
   ]
  },
  {
   "cell_type": "markdown",
   "id": "f29453dc",
   "metadata": {},
   "source": [
    "Comment: Not sure why there is one data point where the garage was built in 2200, but we will remove this column anyway"
   ]
  },
  {
   "cell_type": "code",
   "execution_count": 96,
   "id": "9423dd9c",
   "metadata": {},
   "outputs": [],
   "source": [
    "df_clean.drop('GarageYrBlt', axis=1, inplace=True)"
   ]
  },
  {
   "cell_type": "markdown",
   "id": "3a2130ed",
   "metadata": {},
   "source": [
    "## GarageCars - fill missing with most common"
   ]
  },
  {
   "cell_type": "code",
   "execution_count": 97,
   "id": "db814c4d",
   "metadata": {},
   "outputs": [],
   "source": [
    "df_clean[\"GarageCars\"] = df_clean[\"GarageCars\"].fillna(df_clean[\"GarageCars\"].mode()[0])"
   ]
  },
  {
   "cell_type": "markdown",
   "id": "6f1d6e0b",
   "metadata": {},
   "source": [
    "## GarageArea \n",
    "as there is only a single missing value in this column, impute it with median area of a garage with capacity for 2 cars"
   ]
  },
  {
   "cell_type": "code",
   "execution_count": 98,
   "id": "8fc2a1ea",
   "metadata": {},
   "outputs": [
    {
     "data": {
      "text/html": [
       "<div>\n",
       "<style scoped>\n",
       "    .dataframe tbody tr th:only-of-type {\n",
       "        vertical-align: middle;\n",
       "    }\n",
       "\n",
       "    .dataframe tbody tr th {\n",
       "        vertical-align: top;\n",
       "    }\n",
       "\n",
       "    .dataframe thead th {\n",
       "        text-align: right;\n",
       "    }\n",
       "</style>\n",
       "<table border=\"1\" class=\"dataframe\">\n",
       "  <thead>\n",
       "    <tr style=\"text-align: right;\">\n",
       "      <th></th>\n",
       "      <th>GarageArea</th>\n",
       "    </tr>\n",
       "    <tr>\n",
       "      <th>GarageCars</th>\n",
       "      <th></th>\n",
       "    </tr>\n",
       "  </thead>\n",
       "  <tbody>\n",
       "    <tr>\n",
       "      <th>0.0</th>\n",
       "      <td>0.0</td>\n",
       "    </tr>\n",
       "    <tr>\n",
       "      <th>1.0</th>\n",
       "      <td>288.0</td>\n",
       "    </tr>\n",
       "    <tr>\n",
       "      <th>2.0</th>\n",
       "      <td>506.0</td>\n",
       "    </tr>\n",
       "    <tr>\n",
       "      <th>3.0</th>\n",
       "      <td>807.5</td>\n",
       "    </tr>\n",
       "    <tr>\n",
       "      <th>4.0</th>\n",
       "      <td>892.0</td>\n",
       "    </tr>\n",
       "    <tr>\n",
       "      <th>5.0</th>\n",
       "      <td>1184.0</td>\n",
       "    </tr>\n",
       "  </tbody>\n",
       "</table>\n",
       "</div>"
      ],
      "text/plain": [
       "            GarageArea\n",
       "GarageCars            \n",
       "0.0                0.0\n",
       "1.0              288.0\n",
       "2.0              506.0\n",
       "3.0              807.5\n",
       "4.0              892.0\n",
       "5.0             1184.0"
      ]
     },
     "execution_count": 98,
     "metadata": {},
     "output_type": "execute_result"
    }
   ],
   "source": [
    "df_clean[[\"GarageCars\",\"GarageArea\"]].groupby(\"GarageCars\").median()"
   ]
  },
  {
   "cell_type": "code",
   "execution_count": 99,
   "id": "a9c6be49",
   "metadata": {},
   "outputs": [],
   "source": [
    "df_clean[\"GarageArea\"] = df_clean[\"GarageArea\"].fillna(506.0)"
   ]
  },
  {
   "cell_type": "code",
   "execution_count": 100,
   "id": "d5b4d377",
   "metadata": {
    "scrolled": true
   },
   "outputs": [
    {
     "name": "stdout",
     "output_type": "stream",
     "text": [
      "<class 'pandas.core.frame.DataFrame'>\n",
      "RangeIndex: 2919 entries, 0 to 2918\n",
      "Data columns (total 79 columns):\n",
      " #   Column         Non-Null Count  Dtype  \n",
      "---  ------         --------------  -----  \n",
      " 0   Id             2919 non-null   int64  \n",
      " 1   MSSubClass     2919 non-null   int64  \n",
      " 2   MSZoning       2919 non-null   object \n",
      " 3   LotFrontage    2919 non-null   float64\n",
      " 4   LotArea        2919 non-null   int64  \n",
      " 5   Street         2919 non-null   object \n",
      " 6   Alley          2919 non-null   object \n",
      " 7   LotShape       2919 non-null   object \n",
      " 8   LandContour    2919 non-null   object \n",
      " 9   LotConfig      2919 non-null   object \n",
      " 10  LandSlope      2919 non-null   object \n",
      " 11  Neighborhood   2919 non-null   object \n",
      " 12  Condition1     2919 non-null   object \n",
      " 13  Condition2     2919 non-null   object \n",
      " 14  BldgType       2919 non-null   object \n",
      " 15  HouseStyle     2919 non-null   object \n",
      " 16  OverallQual    2919 non-null   int64  \n",
      " 17  OverallCond    2919 non-null   int64  \n",
      " 18  YearBuilt      2919 non-null   int64  \n",
      " 19  YearRemodAdd   2919 non-null   int64  \n",
      " 20  RoofStyle      2919 non-null   object \n",
      " 21  RoofMatl       2919 non-null   object \n",
      " 22  Exterior1st    2919 non-null   object \n",
      " 23  Exterior2nd    2919 non-null   object \n",
      " 24  MasVnrType     2919 non-null   object \n",
      " 25  MasVnrArea     2919 non-null   float64\n",
      " 26  ExterQual      2919 non-null   object \n",
      " 27  ExterCond      2919 non-null   object \n",
      " 28  Foundation     2919 non-null   object \n",
      " 29  BsmtQual       2919 non-null   object \n",
      " 30  BsmtCond       2919 non-null   object \n",
      " 31  BsmtExposure   2919 non-null   object \n",
      " 32  BsmtFinType1   2919 non-null   object \n",
      " 33  BsmtFinSF1     2919 non-null   float64\n",
      " 34  BsmtFinType2   2919 non-null   object \n",
      " 35  BsmtFinSF2     2919 non-null   float64\n",
      " 36  BsmtUnfSF      2919 non-null   float64\n",
      " 37  TotalBsmtSF    2919 non-null   float64\n",
      " 38  Heating        2919 non-null   object \n",
      " 39  HeatingQC      2919 non-null   object \n",
      " 40  CentralAir     2919 non-null   object \n",
      " 41  Electrical     2919 non-null   object \n",
      " 42  1stFlrSF       2919 non-null   int64  \n",
      " 43  2ndFlrSF       2919 non-null   int64  \n",
      " 44  LowQualFinSF   2919 non-null   int64  \n",
      " 45  GrLivArea      2919 non-null   int64  \n",
      " 46  BsmtFullBath   2919 non-null   float64\n",
      " 47  BsmtHalfBath   2919 non-null   float64\n",
      " 48  FullBath       2919 non-null   int64  \n",
      " 49  HalfBath       2919 non-null   int64  \n",
      " 50  BedroomAbvGr   2919 non-null   int64  \n",
      " 51  KitchenAbvGr   2919 non-null   int64  \n",
      " 52  KitchenQual    2919 non-null   object \n",
      " 53  TotRmsAbvGrd   2919 non-null   int64  \n",
      " 54  Functional     2919 non-null   object \n",
      " 55  Fireplaces     2919 non-null   int64  \n",
      " 56  FireplaceQu    2919 non-null   object \n",
      " 57  GarageType     2919 non-null   object \n",
      " 58  GarageFinish   2919 non-null   object \n",
      " 59  GarageCars     2919 non-null   float64\n",
      " 60  GarageArea     2919 non-null   float64\n",
      " 61  GarageQual     2919 non-null   object \n",
      " 62  GarageCond     2919 non-null   object \n",
      " 63  PavedDrive     2919 non-null   object \n",
      " 64  WoodDeckSF     2919 non-null   int64  \n",
      " 65  OpenPorchSF    2919 non-null   int64  \n",
      " 66  EnclosedPorch  2919 non-null   int64  \n",
      " 67  3SsnPorch      2919 non-null   int64  \n",
      " 68  ScreenPorch    2919 non-null   int64  \n",
      " 69  PoolArea       2919 non-null   int64  \n",
      " 70  PoolQC         10 non-null     object \n",
      " 71  Fence          571 non-null    object \n",
      " 72  MiscFeature    105 non-null    object \n",
      " 73  MiscVal        2919 non-null   int64  \n",
      " 74  MoSold         2919 non-null   int64  \n",
      " 75  YrSold         2919 non-null   int64  \n",
      " 76  SaleType       2918 non-null   object \n",
      " 77  SaleCondition  2919 non-null   object \n",
      " 78  SalePrice      1460 non-null   float64\n",
      "dtypes: float64(11), int64(26), object(42)\n",
      "memory usage: 1.8+ MB\n"
     ]
    }
   ],
   "source": [
    "df_clean.info()"
   ]
  },
  {
   "cell_type": "markdown",
   "id": "8d2b29e4",
   "metadata": {},
   "source": [
    "## PoolQC - we will turn this into another column called HasPool with columns being 0 or 1"
   ]
  },
  {
   "cell_type": "code",
   "execution_count": 101,
   "id": "cf79139f",
   "metadata": {},
   "outputs": [
    {
     "data": {
      "text/plain": [
       "NaN    2909\n",
       "Ex        4\n",
       "Gd        4\n",
       "Fa        2\n",
       "Name: PoolQC, dtype: int64"
      ]
     },
     "execution_count": 101,
     "metadata": {},
     "output_type": "execute_result"
    }
   ],
   "source": [
    "df.PoolQC.value_counts(dropna=False)"
   ]
  },
  {
   "cell_type": "code",
   "execution_count": 102,
   "id": "4a913464",
   "metadata": {},
   "outputs": [],
   "source": [
    "df_clean[\"HasPool\"] = df.PoolQC.isna()*1.0"
   ]
  },
  {
   "cell_type": "code",
   "execution_count": 103,
   "id": "d30782da",
   "metadata": {},
   "outputs": [
    {
     "data": {
      "text/plain": [
       "1.0    2909\n",
       "0.0      10\n",
       "Name: HasPool, dtype: int64"
      ]
     },
     "execution_count": 103,
     "metadata": {},
     "output_type": "execute_result"
    }
   ],
   "source": [
    "df_clean.HasPool.value_counts()"
   ]
  },
  {
   "cell_type": "code",
   "execution_count": 104,
   "id": "8fd5d69f",
   "metadata": {
    "scrolled": true
   },
   "outputs": [],
   "source": [
    "# Drop both PoolQC and PoolArea\n",
    "df_clean.drop('PoolQC', axis=1, inplace=True)\n",
    "df_clean.drop('PoolArea', axis=1, inplace=True)"
   ]
  },
  {
   "cell_type": "markdown",
   "id": "41ae5dfc",
   "metadata": {},
   "source": [
    "## Fence - missing values mean there is no fence so fill missing with 'NF' (No Fence)"
   ]
  },
  {
   "cell_type": "code",
   "execution_count": 105,
   "id": "12aa6910",
   "metadata": {},
   "outputs": [
    {
     "data": {
      "text/plain": [
       "NaN      2348\n",
       "MnPrv     329\n",
       "GdPrv     118\n",
       "GdWo      112\n",
       "MnWw       12\n",
       "Name: Fence, dtype: int64"
      ]
     },
     "execution_count": 105,
     "metadata": {},
     "output_type": "execute_result"
    }
   ],
   "source": [
    "df.Fence.value_counts(dropna=False)"
   ]
  },
  {
   "cell_type": "code",
   "execution_count": 106,
   "id": "eb2eb522",
   "metadata": {},
   "outputs": [],
   "source": [
    "df_clean[\"Fence\"] = df[\"Fence\"].fillna('NF')"
   ]
  },
  {
   "cell_type": "markdown",
   "id": "3684df47",
   "metadata": {},
   "source": [
    "## MiscFeature - replace column with HasMiscFeature"
   ]
  },
  {
   "cell_type": "code",
   "execution_count": 107,
   "id": "3a011bda",
   "metadata": {},
   "outputs": [
    {
     "data": {
      "text/plain": [
       "NaN     2814\n",
       "Shed      95\n",
       "Gar2       5\n",
       "Othr       4\n",
       "TenC       1\n",
       "Name: MiscFeature, dtype: int64"
      ]
     },
     "execution_count": 107,
     "metadata": {},
     "output_type": "execute_result"
    }
   ],
   "source": [
    "df.MiscFeature.value_counts(dropna=False)"
   ]
  },
  {
   "cell_type": "code",
   "execution_count": 108,
   "id": "50b80f98",
   "metadata": {},
   "outputs": [],
   "source": [
    "df_clean[\"HasMiscFeature\"] = df.MiscFeature.isna()*1.0\n",
    "df_clean.drop(\"MiscFeature\", axis=1, inplace=True)"
   ]
  },
  {
   "cell_type": "markdown",
   "id": "c7bd407a",
   "metadata": {},
   "source": [
    "## SaleType - fill with most common"
   ]
  },
  {
   "cell_type": "code",
   "execution_count": 109,
   "id": "2a8f284b",
   "metadata": {},
   "outputs": [
    {
     "data": {
      "text/plain": [
       "WD       2525\n",
       "New       239\n",
       "COD        87\n",
       "ConLD      26\n",
       "CWD        12\n",
       "ConLI       9\n",
       "ConLw       8\n",
       "Oth         7\n",
       "Con         5\n",
       "NaN         1\n",
       "Name: SaleType, dtype: int64"
      ]
     },
     "execution_count": 109,
     "metadata": {},
     "output_type": "execute_result"
    }
   ],
   "source": [
    "df.SaleType.value_counts(dropna=False)"
   ]
  },
  {
   "cell_type": "code",
   "execution_count": 110,
   "id": "a5c54ed6",
   "metadata": {},
   "outputs": [],
   "source": [
    "df_clean[\"SaleType\"] = df[\"SaleType\"].fillna(df[\"SaleType\"].mode()[0])"
   ]
  },
  {
   "cell_type": "code",
   "execution_count": 111,
   "id": "995c2c15",
   "metadata": {
    "scrolled": true
   },
   "outputs": [
    {
     "name": "stdout",
     "output_type": "stream",
     "text": [
      "<class 'pandas.core.frame.DataFrame'>\n",
      "RangeIndex: 2919 entries, 0 to 2918\n",
      "Data columns (total 78 columns):\n",
      " #   Column          Non-Null Count  Dtype  \n",
      "---  ------          --------------  -----  \n",
      " 0   Id              2919 non-null   int64  \n",
      " 1   MSSubClass      2919 non-null   int64  \n",
      " 2   MSZoning        2919 non-null   object \n",
      " 3   LotFrontage     2919 non-null   float64\n",
      " 4   LotArea         2919 non-null   int64  \n",
      " 5   Street          2919 non-null   object \n",
      " 6   Alley           2919 non-null   object \n",
      " 7   LotShape        2919 non-null   object \n",
      " 8   LandContour     2919 non-null   object \n",
      " 9   LotConfig       2919 non-null   object \n",
      " 10  LandSlope       2919 non-null   object \n",
      " 11  Neighborhood    2919 non-null   object \n",
      " 12  Condition1      2919 non-null   object \n",
      " 13  Condition2      2919 non-null   object \n",
      " 14  BldgType        2919 non-null   object \n",
      " 15  HouseStyle      2919 non-null   object \n",
      " 16  OverallQual     2919 non-null   int64  \n",
      " 17  OverallCond     2919 non-null   int64  \n",
      " 18  YearBuilt       2919 non-null   int64  \n",
      " 19  YearRemodAdd    2919 non-null   int64  \n",
      " 20  RoofStyle       2919 non-null   object \n",
      " 21  RoofMatl        2919 non-null   object \n",
      " 22  Exterior1st     2919 non-null   object \n",
      " 23  Exterior2nd     2919 non-null   object \n",
      " 24  MasVnrType      2919 non-null   object \n",
      " 25  MasVnrArea      2919 non-null   float64\n",
      " 26  ExterQual       2919 non-null   object \n",
      " 27  ExterCond       2919 non-null   object \n",
      " 28  Foundation      2919 non-null   object \n",
      " 29  BsmtQual        2919 non-null   object \n",
      " 30  BsmtCond        2919 non-null   object \n",
      " 31  BsmtExposure    2919 non-null   object \n",
      " 32  BsmtFinType1    2919 non-null   object \n",
      " 33  BsmtFinSF1      2919 non-null   float64\n",
      " 34  BsmtFinType2    2919 non-null   object \n",
      " 35  BsmtFinSF2      2919 non-null   float64\n",
      " 36  BsmtUnfSF       2919 non-null   float64\n",
      " 37  TotalBsmtSF     2919 non-null   float64\n",
      " 38  Heating         2919 non-null   object \n",
      " 39  HeatingQC       2919 non-null   object \n",
      " 40  CentralAir      2919 non-null   object \n",
      " 41  Electrical      2919 non-null   object \n",
      " 42  1stFlrSF        2919 non-null   int64  \n",
      " 43  2ndFlrSF        2919 non-null   int64  \n",
      " 44  LowQualFinSF    2919 non-null   int64  \n",
      " 45  GrLivArea       2919 non-null   int64  \n",
      " 46  BsmtFullBath    2919 non-null   float64\n",
      " 47  BsmtHalfBath    2919 non-null   float64\n",
      " 48  FullBath        2919 non-null   int64  \n",
      " 49  HalfBath        2919 non-null   int64  \n",
      " 50  BedroomAbvGr    2919 non-null   int64  \n",
      " 51  KitchenAbvGr    2919 non-null   int64  \n",
      " 52  KitchenQual     2919 non-null   object \n",
      " 53  TotRmsAbvGrd    2919 non-null   int64  \n",
      " 54  Functional      2919 non-null   object \n",
      " 55  Fireplaces      2919 non-null   int64  \n",
      " 56  FireplaceQu     2919 non-null   object \n",
      " 57  GarageType      2919 non-null   object \n",
      " 58  GarageFinish    2919 non-null   object \n",
      " 59  GarageCars      2919 non-null   float64\n",
      " 60  GarageArea      2919 non-null   float64\n",
      " 61  GarageQual      2919 non-null   object \n",
      " 62  GarageCond      2919 non-null   object \n",
      " 63  PavedDrive      2919 non-null   object \n",
      " 64  WoodDeckSF      2919 non-null   int64  \n",
      " 65  OpenPorchSF     2919 non-null   int64  \n",
      " 66  EnclosedPorch   2919 non-null   int64  \n",
      " 67  3SsnPorch       2919 non-null   int64  \n",
      " 68  ScreenPorch     2919 non-null   int64  \n",
      " 69  Fence           2919 non-null   object \n",
      " 70  MiscVal         2919 non-null   int64  \n",
      " 71  MoSold          2919 non-null   int64  \n",
      " 72  YrSold          2919 non-null   int64  \n",
      " 73  SaleType        2919 non-null   object \n",
      " 74  SaleCondition   2919 non-null   object \n",
      " 75  SalePrice       1460 non-null   float64\n",
      " 76  HasPool         2919 non-null   float64\n",
      " 77  HasMiscFeature  2919 non-null   float64\n",
      "dtypes: float64(13), int64(25), object(40)\n",
      "memory usage: 1.7+ MB\n"
     ]
    }
   ],
   "source": [
    "df_clean.info()"
   ]
  },
  {
   "cell_type": "code",
   "execution_count": 112,
   "id": "d18091cb",
   "metadata": {},
   "outputs": [],
   "source": [
    "df_train_clean = df_clean[df_clean.SalePrice.notna()]\n",
    "df_test_clean = df_clean[df_clean.SalePrice.isna()]"
   ]
  },
  {
   "cell_type": "code",
   "execution_count": 117,
   "id": "b71e92f3",
   "metadata": {},
   "outputs": [
    {
     "name": "stdout",
     "output_type": "stream",
     "text": [
      "(1460, 81) (1460, 78)\n",
      "(1459, 80) (1459, 78)\n"
     ]
    }
   ],
   "source": [
    "print(df_train.shape, df_train_clean.shape)\n",
    "print(df_test.shape, df_test_clean.shape)"
   ]
  },
  {
   "cell_type": "code",
   "execution_count": 118,
   "id": "f1868269",
   "metadata": {},
   "outputs": [],
   "source": [
    "df_train_clean.to_csv('../data/interim/train.csv', index=False)"
   ]
  },
  {
   "cell_type": "code",
   "execution_count": 119,
   "id": "5de4ae65",
   "metadata": {},
   "outputs": [],
   "source": [
    "df_test_clean.to_csv('../data/interim/test.csv', index=False)"
   ]
  },
  {
   "cell_type": "code",
   "execution_count": 116,
   "id": "acc139bb",
   "metadata": {},
   "outputs": [
    {
     "name": "stdout",
     "output_type": "stream",
     "text": [
      "<class 'pandas.core.frame.DataFrame'>\n",
      "Int64Index: 1460 entries, 0 to 1459\n",
      "Data columns (total 78 columns):\n",
      " #   Column          Non-Null Count  Dtype  \n",
      "---  ------          --------------  -----  \n",
      " 0   Id              1460 non-null   int64  \n",
      " 1   MSSubClass      1460 non-null   int64  \n",
      " 2   MSZoning        1460 non-null   object \n",
      " 3   LotFrontage     1460 non-null   float64\n",
      " 4   LotArea         1460 non-null   int64  \n",
      " 5   Street          1460 non-null   object \n",
      " 6   Alley           1460 non-null   object \n",
      " 7   LotShape        1460 non-null   object \n",
      " 8   LandContour     1460 non-null   object \n",
      " 9   LotConfig       1460 non-null   object \n",
      " 10  LandSlope       1460 non-null   object \n",
      " 11  Neighborhood    1460 non-null   object \n",
      " 12  Condition1      1460 non-null   object \n",
      " 13  Condition2      1460 non-null   object \n",
      " 14  BldgType        1460 non-null   object \n",
      " 15  HouseStyle      1460 non-null   object \n",
      " 16  OverallQual     1460 non-null   int64  \n",
      " 17  OverallCond     1460 non-null   int64  \n",
      " 18  YearBuilt       1460 non-null   int64  \n",
      " 19  YearRemodAdd    1460 non-null   int64  \n",
      " 20  RoofStyle       1460 non-null   object \n",
      " 21  RoofMatl        1460 non-null   object \n",
      " 22  Exterior1st     1460 non-null   object \n",
      " 23  Exterior2nd     1460 non-null   object \n",
      " 24  MasVnrType      1460 non-null   object \n",
      " 25  MasVnrArea      1460 non-null   float64\n",
      " 26  ExterQual       1460 non-null   object \n",
      " 27  ExterCond       1460 non-null   object \n",
      " 28  Foundation      1460 non-null   object \n",
      " 29  BsmtQual        1460 non-null   object \n",
      " 30  BsmtCond        1460 non-null   object \n",
      " 31  BsmtExposure    1460 non-null   object \n",
      " 32  BsmtFinType1    1460 non-null   object \n",
      " 33  BsmtFinSF1      1460 non-null   float64\n",
      " 34  BsmtFinType2    1460 non-null   object \n",
      " 35  BsmtFinSF2      1460 non-null   float64\n",
      " 36  BsmtUnfSF       1460 non-null   float64\n",
      " 37  TotalBsmtSF     1460 non-null   float64\n",
      " 38  Heating         1460 non-null   object \n",
      " 39  HeatingQC       1460 non-null   object \n",
      " 40  CentralAir      1460 non-null   object \n",
      " 41  Electrical      1460 non-null   object \n",
      " 42  1stFlrSF        1460 non-null   int64  \n",
      " 43  2ndFlrSF        1460 non-null   int64  \n",
      " 44  LowQualFinSF    1460 non-null   int64  \n",
      " 45  GrLivArea       1460 non-null   int64  \n",
      " 46  BsmtFullBath    1460 non-null   float64\n",
      " 47  BsmtHalfBath    1460 non-null   float64\n",
      " 48  FullBath        1460 non-null   int64  \n",
      " 49  HalfBath        1460 non-null   int64  \n",
      " 50  BedroomAbvGr    1460 non-null   int64  \n",
      " 51  KitchenAbvGr    1460 non-null   int64  \n",
      " 52  KitchenQual     1460 non-null   object \n",
      " 53  TotRmsAbvGrd    1460 non-null   int64  \n",
      " 54  Functional      1460 non-null   object \n",
      " 55  Fireplaces      1460 non-null   int64  \n",
      " 56  FireplaceQu     1460 non-null   object \n",
      " 57  GarageType      1460 non-null   object \n",
      " 58  GarageFinish    1460 non-null   object \n",
      " 59  GarageCars      1460 non-null   float64\n",
      " 60  GarageArea      1460 non-null   float64\n",
      " 61  GarageQual      1460 non-null   object \n",
      " 62  GarageCond      1460 non-null   object \n",
      " 63  PavedDrive      1460 non-null   object \n",
      " 64  WoodDeckSF      1460 non-null   int64  \n",
      " 65  OpenPorchSF     1460 non-null   int64  \n",
      " 66  EnclosedPorch   1460 non-null   int64  \n",
      " 67  3SsnPorch       1460 non-null   int64  \n",
      " 68  ScreenPorch     1460 non-null   int64  \n",
      " 69  Fence           1460 non-null   object \n",
      " 70  MiscVal         1460 non-null   int64  \n",
      " 71  MoSold          1460 non-null   int64  \n",
      " 72  YrSold          1460 non-null   int64  \n",
      " 73  SaleType        1460 non-null   object \n",
      " 74  SaleCondition   1460 non-null   object \n",
      " 75  SalePrice       1460 non-null   float64\n",
      " 76  HasPool         1460 non-null   float64\n",
      " 77  HasMiscFeature  1460 non-null   float64\n",
      "dtypes: float64(13), int64(25), object(40)\n",
      "memory usage: 901.1+ KB\n"
     ]
    }
   ],
   "source": [
    "df_train_clean.info()"
   ]
  },
  {
   "cell_type": "code",
   "execution_count": null,
   "id": "6e89d1d8",
   "metadata": {},
   "outputs": [],
   "source": []
  }
 ],
 "metadata": {
  "kernelspec": {
   "display_name": "Python 3",
   "language": "python",
   "name": "python3"
  },
  "language_info": {
   "codemirror_mode": {
    "name": "ipython",
    "version": 3
   },
   "file_extension": ".py",
   "mimetype": "text/x-python",
   "name": "python",
   "nbconvert_exporter": "python",
   "pygments_lexer": "ipython3",
   "version": "3.11.1"
  }
 },
 "nbformat": 4,
 "nbformat_minor": 5
}
